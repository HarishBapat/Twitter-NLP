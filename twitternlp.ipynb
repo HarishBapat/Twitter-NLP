{
 "cells": [
  {
   "cell_type": "code",
   "execution_count": 1,
   "id": "a0bad86e",
   "metadata": {
    "_cell_guid": "b1076dfc-b9ad-4769-8c92-a6c4dae69d19",
    "_uuid": "8f2839f25d086af736a60e9eeb907d3b93b6e0e5",
    "execution": {
     "iopub.execute_input": "2023-07-30T10:51:58.074003Z",
     "iopub.status.busy": "2023-07-30T10:51:58.073499Z",
     "iopub.status.idle": "2023-07-30T10:51:58.089864Z",
     "shell.execute_reply": "2023-07-30T10:51:58.088683Z"
    },
    "papermill": {
     "duration": 0.036714,
     "end_time": "2023-07-30T10:51:58.092628",
     "exception": false,
     "start_time": "2023-07-30T10:51:58.055914",
     "status": "completed"
    },
    "tags": []
   },
   "outputs": [
    {
     "name": "stdout",
     "output_type": "stream",
     "text": [
      "/kaggle/input/nlp-getting-started/sample_submission.csv\n",
      "/kaggle/input/nlp-getting-started/train.csv\n",
      "/kaggle/input/nlp-getting-started/test.csv\n"
     ]
    }
   ],
   "source": [
    "# This Python 3 environment comes with many helpful analytics libraries installed\n",
    "# It is defined by the kaggle/python Docker image: https://github.com/kaggle/docker-python\n",
    "# For example, here's several helpful packages to load\n",
    "\n",
    "import numpy as np # linear algebra\n",
    "import pandas as pd # data processing, CSV file I/O (e.g. pd.read_csv)\n",
    "\n",
    "# Input data files are available in the read-only \"../input/\" directory\n",
    "# For example, running this (by clicking run or pressing Shift+Enter) will list all files under the input directory\n",
    "\n",
    "import os\n",
    "for dirname, _, filenames in os.walk('/kaggle/input'):\n",
    "    for filename in filenames:\n",
    "        print(os.path.join(dirname, filename))\n",
    "\n",
    "# You can write up to 20GB to the current directory (/kaggle/working/) that gets preserved as output when you create a version using \"Save & Run All\" \n",
    "# You can also write temporary files to /kaggle/temp/, but they won't be saved outside of the current session"
   ]
  },
  {
   "cell_type": "code",
   "execution_count": 2,
   "id": "f226bcfc",
   "metadata": {
    "execution": {
     "iopub.execute_input": "2023-07-30T10:51:58.122569Z",
     "iopub.status.busy": "2023-07-30T10:51:58.121873Z",
     "iopub.status.idle": "2023-07-30T10:51:58.127066Z",
     "shell.execute_reply": "2023-07-30T10:51:58.126200Z"
    },
    "papermill": {
     "duration": 0.023199,
     "end_time": "2023-07-30T10:51:58.129439",
     "exception": false,
     "start_time": "2023-07-30T10:51:58.106240",
     "status": "completed"
    },
    "tags": []
   },
   "outputs": [],
   "source": [
    "import pandas as pd \n",
    "import numpy as np"
   ]
  },
  {
   "cell_type": "markdown",
   "id": "ceedc5d7",
   "metadata": {
    "papermill": {
     "duration": 0.013095,
     "end_time": "2023-07-30T10:51:58.156133",
     "exception": false,
     "start_time": "2023-07-30T10:51:58.143038",
     "status": "completed"
    },
    "tags": []
   },
   "source": [
    "Importing dataset "
   ]
  },
  {
   "cell_type": "code",
   "execution_count": 3,
   "id": "07eaf286",
   "metadata": {
    "execution": {
     "iopub.execute_input": "2023-07-30T10:51:58.185534Z",
     "iopub.status.busy": "2023-07-30T10:51:58.184831Z",
     "iopub.status.idle": "2023-07-30T10:51:58.263112Z",
     "shell.execute_reply": "2023-07-30T10:51:58.261669Z"
    },
    "papermill": {
     "duration": 0.096059,
     "end_time": "2023-07-30T10:51:58.265746",
     "exception": false,
     "start_time": "2023-07-30T10:51:58.169687",
     "status": "completed"
    },
    "tags": []
   },
   "outputs": [
    {
     "data": {
      "text/html": [
       "<div>\n",
       "<style scoped>\n",
       "    .dataframe tbody tr th:only-of-type {\n",
       "        vertical-align: middle;\n",
       "    }\n",
       "\n",
       "    .dataframe tbody tr th {\n",
       "        vertical-align: top;\n",
       "    }\n",
       "\n",
       "    .dataframe thead th {\n",
       "        text-align: right;\n",
       "    }\n",
       "</style>\n",
       "<table border=\"1\" class=\"dataframe\">\n",
       "  <thead>\n",
       "    <tr style=\"text-align: right;\">\n",
       "      <th></th>\n",
       "      <th>id</th>\n",
       "      <th>keyword</th>\n",
       "      <th>location</th>\n",
       "      <th>text</th>\n",
       "      <th>target</th>\n",
       "    </tr>\n",
       "  </thead>\n",
       "  <tbody>\n",
       "    <tr>\n",
       "      <th>0</th>\n",
       "      <td>1</td>\n",
       "      <td>NaN</td>\n",
       "      <td>NaN</td>\n",
       "      <td>Our Deeds are the Reason of this #earthquake M...</td>\n",
       "      <td>1</td>\n",
       "    </tr>\n",
       "    <tr>\n",
       "      <th>1</th>\n",
       "      <td>4</td>\n",
       "      <td>NaN</td>\n",
       "      <td>NaN</td>\n",
       "      <td>Forest fire near La Ronge Sask. Canada</td>\n",
       "      <td>1</td>\n",
       "    </tr>\n",
       "    <tr>\n",
       "      <th>2</th>\n",
       "      <td>5</td>\n",
       "      <td>NaN</td>\n",
       "      <td>NaN</td>\n",
       "      <td>All residents asked to 'shelter in place' are ...</td>\n",
       "      <td>1</td>\n",
       "    </tr>\n",
       "    <tr>\n",
       "      <th>3</th>\n",
       "      <td>6</td>\n",
       "      <td>NaN</td>\n",
       "      <td>NaN</td>\n",
       "      <td>13,000 people receive #wildfires evacuation or...</td>\n",
       "      <td>1</td>\n",
       "    </tr>\n",
       "    <tr>\n",
       "      <th>4</th>\n",
       "      <td>7</td>\n",
       "      <td>NaN</td>\n",
       "      <td>NaN</td>\n",
       "      <td>Just got sent this photo from Ruby #Alaska as ...</td>\n",
       "      <td>1</td>\n",
       "    </tr>\n",
       "  </tbody>\n",
       "</table>\n",
       "</div>"
      ],
      "text/plain": [
       "   id keyword location                                               text  \\\n",
       "0   1     NaN      NaN  Our Deeds are the Reason of this #earthquake M...   \n",
       "1   4     NaN      NaN             Forest fire near La Ronge Sask. Canada   \n",
       "2   5     NaN      NaN  All residents asked to 'shelter in place' are ...   \n",
       "3   6     NaN      NaN  13,000 people receive #wildfires evacuation or...   \n",
       "4   7     NaN      NaN  Just got sent this photo from Ruby #Alaska as ...   \n",
       "\n",
       "   target  \n",
       "0       1  \n",
       "1       1  \n",
       "2       1  \n",
       "3       1  \n",
       "4       1  "
      ]
     },
     "execution_count": 3,
     "metadata": {},
     "output_type": "execute_result"
    }
   ],
   "source": [
    "df1=pd.read_csv('/kaggle/input/nlp-getting-started/train.csv')\n",
    "df1.head()"
   ]
  },
  {
   "cell_type": "code",
   "execution_count": 4,
   "id": "94e78884",
   "metadata": {
    "execution": {
     "iopub.execute_input": "2023-07-30T10:51:58.295798Z",
     "iopub.status.busy": "2023-07-30T10:51:58.294465Z",
     "iopub.status.idle": "2023-07-30T10:51:58.302455Z",
     "shell.execute_reply": "2023-07-30T10:51:58.301383Z"
    },
    "papermill": {
     "duration": 0.025377,
     "end_time": "2023-07-30T10:51:58.304701",
     "exception": false,
     "start_time": "2023-07-30T10:51:58.279324",
     "status": "completed"
    },
    "tags": []
   },
   "outputs": [
    {
     "data": {
      "text/plain": [
       "(7613, 5)"
      ]
     },
     "execution_count": 4,
     "metadata": {},
     "output_type": "execute_result"
    }
   ],
   "source": [
    "df1.shape"
   ]
  },
  {
   "cell_type": "code",
   "execution_count": 5,
   "id": "81aae263",
   "metadata": {
    "execution": {
     "iopub.execute_input": "2023-07-30T10:51:58.334888Z",
     "iopub.status.busy": "2023-07-30T10:51:58.334109Z",
     "iopub.status.idle": "2023-07-30T10:51:58.355884Z",
     "shell.execute_reply": "2023-07-30T10:51:58.354648Z"
    },
    "papermill": {
     "duration": 0.03993,
     "end_time": "2023-07-30T10:51:58.358429",
     "exception": false,
     "start_time": "2023-07-30T10:51:58.318499",
     "status": "completed"
    },
    "tags": []
   },
   "outputs": [
    {
     "data": {
      "text/plain": [
       "id             0\n",
       "keyword       61\n",
       "location    2533\n",
       "text           0\n",
       "target         0\n",
       "dtype: int64"
      ]
     },
     "execution_count": 5,
     "metadata": {},
     "output_type": "execute_result"
    }
   ],
   "source": [
    "df1.isna().sum()"
   ]
  },
  {
   "cell_type": "code",
   "execution_count": 6,
   "id": "8a7ce5c2",
   "metadata": {
    "execution": {
     "iopub.execute_input": "2023-07-30T10:51:58.389115Z",
     "iopub.status.busy": "2023-07-30T10:51:58.388244Z",
     "iopub.status.idle": "2023-07-30T10:51:58.401562Z",
     "shell.execute_reply": "2023-07-30T10:51:58.400374Z"
    },
    "papermill": {
     "duration": 0.031636,
     "end_time": "2023-07-30T10:51:58.404036",
     "exception": false,
     "start_time": "2023-07-30T10:51:58.372400",
     "status": "completed"
    },
    "tags": []
   },
   "outputs": [
    {
     "data": {
      "text/plain": [
       "0    4342\n",
       "1    3271\n",
       "Name: target, dtype: int64"
      ]
     },
     "execution_count": 6,
     "metadata": {},
     "output_type": "execute_result"
    }
   ],
   "source": [
    "df1.target.value_counts()"
   ]
  },
  {
   "cell_type": "markdown",
   "id": "ea418d13",
   "metadata": {
    "papermill": {
     "duration": 0.013863,
     "end_time": "2023-07-30T10:51:58.432055",
     "exception": false,
     "start_time": "2023-07-30T10:51:58.418192",
     "status": "completed"
    },
    "tags": []
   },
   "source": [
    "# Case1: Drop all the null in the data set.\n",
    "(This also makes the dataset al little more balanced)"
   ]
  },
  {
   "cell_type": "code",
   "execution_count": 7,
   "id": "29a0c210",
   "metadata": {
    "execution": {
     "iopub.execute_input": "2023-07-30T10:51:58.462737Z",
     "iopub.status.busy": "2023-07-30T10:51:58.462004Z",
     "iopub.status.idle": "2023-07-30T10:51:58.482577Z",
     "shell.execute_reply": "2023-07-30T10:51:58.481439Z"
    },
    "papermill": {
     "duration": 0.039042,
     "end_time": "2023-07-30T10:51:58.485137",
     "exception": false,
     "start_time": "2023-07-30T10:51:58.446095",
     "status": "completed"
    },
    "tags": []
   },
   "outputs": [
    {
     "data": {
      "text/plain": [
       "(5080, 5)"
      ]
     },
     "execution_count": 7,
     "metadata": {},
     "output_type": "execute_result"
    }
   ],
   "source": [
    "df1.dropna(inplace=True,axis=0)\n",
    "df1.shape"
   ]
  },
  {
   "cell_type": "code",
   "execution_count": 8,
   "id": "d6e299aa",
   "metadata": {
    "execution": {
     "iopub.execute_input": "2023-07-30T10:51:58.515866Z",
     "iopub.status.busy": "2023-07-30T10:51:58.515125Z",
     "iopub.status.idle": "2023-07-30T10:51:58.523797Z",
     "shell.execute_reply": "2023-07-30T10:51:58.522973Z"
    },
    "papermill": {
     "duration": 0.027155,
     "end_time": "2023-07-30T10:51:58.526328",
     "exception": false,
     "start_time": "2023-07-30T10:51:58.499173",
     "status": "completed"
    },
    "tags": []
   },
   "outputs": [
    {
     "data": {
      "text/plain": [
       "0    2884\n",
       "1    2196\n",
       "Name: target, dtype: int64"
      ]
     },
     "execution_count": 8,
     "metadata": {},
     "output_type": "execute_result"
    }
   ],
   "source": [
    "df1.target.value_counts()\n"
   ]
  },
  {
   "cell_type": "markdown",
   "id": "29219dfb",
   "metadata": {
    "papermill": {
     "duration": 0.013861,
     "end_time": "2023-07-30T10:51:58.554269",
     "exception": false,
     "start_time": "2023-07-30T10:51:58.540408",
     "status": "completed"
    },
    "tags": []
   },
   "source": [
    "**Pre-process the data:**"
   ]
  },
  {
   "cell_type": "code",
   "execution_count": 9,
   "id": "7938016a",
   "metadata": {
    "execution": {
     "iopub.execute_input": "2023-07-30T10:51:58.585481Z",
     "iopub.status.busy": "2023-07-30T10:51:58.585040Z",
     "iopub.status.idle": "2023-07-30T10:53:18.719207Z",
     "shell.execute_reply": "2023-07-30T10:53:18.717420Z"
    },
    "papermill": {
     "duration": 80.166899,
     "end_time": "2023-07-30T10:53:18.735629",
     "exception": false,
     "start_time": "2023-07-30T10:51:58.568730",
     "status": "completed"
    },
    "tags": []
   },
   "outputs": [
    {
     "name": "stderr",
     "output_type": "stream",
     "text": [
      "/opt/conda/lib/python3.10/site-packages/scipy/__init__.py:146: UserWarning: A NumPy version >=1.16.5 and <1.23.0 is required for this version of SciPy (detected version 1.23.5\n",
      "  warnings.warn(f\"A NumPy version >={np_minversion} and <{np_maxversion}\"\n",
      "/opt/conda/lib/python3.10/site-packages/tensorflow_io/python/ops/__init__.py:98: UserWarning: unable to load libtensorflow_io_plugins.so: unable to open file: libtensorflow_io_plugins.so, from paths: ['/opt/conda/lib/python3.10/site-packages/tensorflow_io/python/ops/libtensorflow_io_plugins.so']\n",
      "caused by: ['/opt/conda/lib/python3.10/site-packages/tensorflow_io/python/ops/libtensorflow_io_plugins.so: undefined symbol: _ZN3tsl6StatusC1EN10tensorflow5error4CodeESt17basic_string_viewIcSt11char_traitsIcEENS_14SourceLocationE']\n",
      "  warnings.warn(f\"unable to load libtensorflow_io_plugins.so: {e}\")\n",
      "/opt/conda/lib/python3.10/site-packages/tensorflow_io/python/ops/__init__.py:104: UserWarning: file system plugins are not loaded: unable to open file: libtensorflow_io.so, from paths: ['/opt/conda/lib/python3.10/site-packages/tensorflow_io/python/ops/libtensorflow_io.so']\n",
      "caused by: ['/opt/conda/lib/python3.10/site-packages/tensorflow_io/python/ops/libtensorflow_io.so: undefined symbol: _ZTVN10tensorflow13GcsFileSystemE']\n",
      "  warnings.warn(f\"file system plugins are not loaded: {e}\")\n"
     ]
    },
    {
     "data": {
      "text/html": [
       "<div>\n",
       "<style scoped>\n",
       "    .dataframe tbody tr th:only-of-type {\n",
       "        vertical-align: middle;\n",
       "    }\n",
       "\n",
       "    .dataframe tbody tr th {\n",
       "        vertical-align: top;\n",
       "    }\n",
       "\n",
       "    .dataframe thead th {\n",
       "        text-align: right;\n",
       "    }\n",
       "</style>\n",
       "<table border=\"1\" class=\"dataframe\">\n",
       "  <thead>\n",
       "    <tr style=\"text-align: right;\">\n",
       "      <th></th>\n",
       "      <th>id</th>\n",
       "      <th>keyword</th>\n",
       "      <th>location</th>\n",
       "      <th>text</th>\n",
       "      <th>target</th>\n",
       "      <th>prep_text</th>\n",
       "    </tr>\n",
       "  </thead>\n",
       "  <tbody>\n",
       "    <tr>\n",
       "      <th>31</th>\n",
       "      <td>48</td>\n",
       "      <td>ablaze</td>\n",
       "      <td>Birmingham</td>\n",
       "      <td>@bbcmtd Wholesale Markets ablaze http://t.co/l...</td>\n",
       "      <td>1</td>\n",
       "      <td>@bbcmtd wholesale market ablaze</td>\n",
       "    </tr>\n",
       "    <tr>\n",
       "      <th>32</th>\n",
       "      <td>49</td>\n",
       "      <td>ablaze</td>\n",
       "      <td>Est. September 2012 - Bristol</td>\n",
       "      <td>We always try to bring the heavy. #metal #RT h...</td>\n",
       "      <td>0</td>\n",
       "      <td>try bring heavy metal rt</td>\n",
       "    </tr>\n",
       "    <tr>\n",
       "      <th>33</th>\n",
       "      <td>50</td>\n",
       "      <td>ablaze</td>\n",
       "      <td>AFRICA</td>\n",
       "      <td>#AFRICANBAZE: Breaking news:Nigeria flag set a...</td>\n",
       "      <td>1</td>\n",
       "      <td>africanbaze break news nigeria flag set ablaze...</td>\n",
       "    </tr>\n",
       "    <tr>\n",
       "      <th>34</th>\n",
       "      <td>52</td>\n",
       "      <td>ablaze</td>\n",
       "      <td>Philadelphia, PA</td>\n",
       "      <td>Crying out for more! Set me ablaze</td>\n",
       "      <td>0</td>\n",
       "      <td>cry set ablaze</td>\n",
       "    </tr>\n",
       "    <tr>\n",
       "      <th>35</th>\n",
       "      <td>53</td>\n",
       "      <td>ablaze</td>\n",
       "      <td>London, UK</td>\n",
       "      <td>On plus side LOOK AT THE SKY LAST NIGHT IT WAS...</td>\n",
       "      <td>0</td>\n",
       "      <td>plus look sky night ablaze</td>\n",
       "    </tr>\n",
       "  </tbody>\n",
       "</table>\n",
       "</div>"
      ],
      "text/plain": [
       "    id keyword                       location  \\\n",
       "31  48  ablaze                     Birmingham   \n",
       "32  49  ablaze  Est. September 2012 - Bristol   \n",
       "33  50  ablaze                         AFRICA   \n",
       "34  52  ablaze               Philadelphia, PA   \n",
       "35  53  ablaze                     London, UK   \n",
       "\n",
       "                                                 text  target  \\\n",
       "31  @bbcmtd Wholesale Markets ablaze http://t.co/l...       1   \n",
       "32  We always try to bring the heavy. #metal #RT h...       0   \n",
       "33  #AFRICANBAZE: Breaking news:Nigeria flag set a...       1   \n",
       "34                 Crying out for more! Set me ablaze       0   \n",
       "35  On plus side LOOK AT THE SKY LAST NIGHT IT WAS...       0   \n",
       "\n",
       "                                            prep_text  \n",
       "31                    @bbcmtd wholesale market ablaze  \n",
       "32                           try bring heavy metal rt  \n",
       "33  africanbaze break news nigeria flag set ablaze...  \n",
       "34                                     cry set ablaze  \n",
       "35                         plus look sky night ablaze  "
      ]
     },
     "execution_count": 9,
     "metadata": {},
     "output_type": "execute_result"
    }
   ],
   "source": [
    "import spacy\n",
    "nlp=spacy.load(\"en_core_web_lg\")\n",
    "def preprocess(text):\n",
    "    doc=nlp(text.lower())\n",
    "    filtered_data=[]\n",
    "    for token in doc:\n",
    "        if token.is_stop or token.is_punct or token.like_url:\n",
    "            continue\n",
    "        filtered_data.append(token.lemma_)\n",
    "    return \" \".join(filtered_data)\n",
    "\n",
    "df1['prep_text']=df1['text'].apply(preprocess)\n",
    "df1.head()"
   ]
  },
  {
   "cell_type": "markdown",
   "id": "ca0bf047",
   "metadata": {
    "papermill": {
     "duration": 0.014039,
     "end_time": "2023-07-30T10:53:18.764015",
     "exception": false,
     "start_time": "2023-07-30T10:53:18.749976",
     "status": "completed"
    },
    "tags": []
   },
   "source": [
    "For now we will add all the 3 columns i.e. keywords,location and text in one column namely new_text."
   ]
  },
  {
   "cell_type": "code",
   "execution_count": 10,
   "id": "01bcffd4",
   "metadata": {
    "execution": {
     "iopub.execute_input": "2023-07-30T10:53:18.795795Z",
     "iopub.status.busy": "2023-07-30T10:53:18.794794Z",
     "iopub.status.idle": "2023-07-30T10:53:18.817182Z",
     "shell.execute_reply": "2023-07-30T10:53:18.815997Z"
    },
    "papermill": {
     "duration": 0.041022,
     "end_time": "2023-07-30T10:53:18.819421",
     "exception": false,
     "start_time": "2023-07-30T10:53:18.778399",
     "status": "completed"
    },
    "tags": []
   },
   "outputs": [
    {
     "data": {
      "text/html": [
       "<div>\n",
       "<style scoped>\n",
       "    .dataframe tbody tr th:only-of-type {\n",
       "        vertical-align: middle;\n",
       "    }\n",
       "\n",
       "    .dataframe tbody tr th {\n",
       "        vertical-align: top;\n",
       "    }\n",
       "\n",
       "    .dataframe thead th {\n",
       "        text-align: right;\n",
       "    }\n",
       "</style>\n",
       "<table border=\"1\" class=\"dataframe\">\n",
       "  <thead>\n",
       "    <tr style=\"text-align: right;\">\n",
       "      <th></th>\n",
       "      <th>id</th>\n",
       "      <th>keyword</th>\n",
       "      <th>location</th>\n",
       "      <th>text</th>\n",
       "      <th>target</th>\n",
       "      <th>prep_text</th>\n",
       "      <th>new_text</th>\n",
       "    </tr>\n",
       "  </thead>\n",
       "  <tbody>\n",
       "    <tr>\n",
       "      <th>31</th>\n",
       "      <td>48</td>\n",
       "      <td>ablaze</td>\n",
       "      <td>Birmingham</td>\n",
       "      <td>@bbcmtd Wholesale Markets ablaze http://t.co/l...</td>\n",
       "      <td>1</td>\n",
       "      <td>@bbcmtd wholesale market ablaze</td>\n",
       "      <td>ablaze Birmingham @bbcmtd wholesale market ablaze</td>\n",
       "    </tr>\n",
       "    <tr>\n",
       "      <th>32</th>\n",
       "      <td>49</td>\n",
       "      <td>ablaze</td>\n",
       "      <td>Est. September 2012 - Bristol</td>\n",
       "      <td>We always try to bring the heavy. #metal #RT h...</td>\n",
       "      <td>0</td>\n",
       "      <td>try bring heavy metal rt</td>\n",
       "      <td>ablaze Est. September 2012 - Bristol try bring...</td>\n",
       "    </tr>\n",
       "    <tr>\n",
       "      <th>33</th>\n",
       "      <td>50</td>\n",
       "      <td>ablaze</td>\n",
       "      <td>AFRICA</td>\n",
       "      <td>#AFRICANBAZE: Breaking news:Nigeria flag set a...</td>\n",
       "      <td>1</td>\n",
       "      <td>africanbaze break news nigeria flag set ablaze...</td>\n",
       "      <td>ablaze AFRICA africanbaze break news nigeria f...</td>\n",
       "    </tr>\n",
       "    <tr>\n",
       "      <th>34</th>\n",
       "      <td>52</td>\n",
       "      <td>ablaze</td>\n",
       "      <td>Philadelphia, PA</td>\n",
       "      <td>Crying out for more! Set me ablaze</td>\n",
       "      <td>0</td>\n",
       "      <td>cry set ablaze</td>\n",
       "      <td>ablaze Philadelphia, PA cry set ablaze</td>\n",
       "    </tr>\n",
       "    <tr>\n",
       "      <th>35</th>\n",
       "      <td>53</td>\n",
       "      <td>ablaze</td>\n",
       "      <td>London, UK</td>\n",
       "      <td>On plus side LOOK AT THE SKY LAST NIGHT IT WAS...</td>\n",
       "      <td>0</td>\n",
       "      <td>plus look sky night ablaze</td>\n",
       "      <td>ablaze London, UK plus look sky night ablaze</td>\n",
       "    </tr>\n",
       "  </tbody>\n",
       "</table>\n",
       "</div>"
      ],
      "text/plain": [
       "    id keyword                       location  \\\n",
       "31  48  ablaze                     Birmingham   \n",
       "32  49  ablaze  Est. September 2012 - Bristol   \n",
       "33  50  ablaze                         AFRICA   \n",
       "34  52  ablaze               Philadelphia, PA   \n",
       "35  53  ablaze                     London, UK   \n",
       "\n",
       "                                                 text  target  \\\n",
       "31  @bbcmtd Wholesale Markets ablaze http://t.co/l...       1   \n",
       "32  We always try to bring the heavy. #metal #RT h...       0   \n",
       "33  #AFRICANBAZE: Breaking news:Nigeria flag set a...       1   \n",
       "34                 Crying out for more! Set me ablaze       0   \n",
       "35  On plus side LOOK AT THE SKY LAST NIGHT IT WAS...       0   \n",
       "\n",
       "                                            prep_text  \\\n",
       "31                    @bbcmtd wholesale market ablaze   \n",
       "32                           try bring heavy metal rt   \n",
       "33  africanbaze break news nigeria flag set ablaze...   \n",
       "34                                     cry set ablaze   \n",
       "35                         plus look sky night ablaze   \n",
       "\n",
       "                                             new_text  \n",
       "31  ablaze Birmingham @bbcmtd wholesale market ablaze  \n",
       "32  ablaze Est. September 2012 - Bristol try bring...  \n",
       "33  ablaze AFRICA africanbaze break news nigeria f...  \n",
       "34             ablaze Philadelphia, PA cry set ablaze  \n",
       "35       ablaze London, UK plus look sky night ablaze  "
      ]
     },
     "execution_count": 10,
     "metadata": {},
     "output_type": "execute_result"
    }
   ],
   "source": [
    "df1['new_text']=df1['keyword']+\" \"+df1['location']+\" \"+df1['prep_text']\n",
    "df1.head()"
   ]
  },
  {
   "cell_type": "code",
   "execution_count": 11,
   "id": "2eb9c87e",
   "metadata": {
    "execution": {
     "iopub.execute_input": "2023-07-30T10:53:18.851516Z",
     "iopub.status.busy": "2023-07-30T10:53:18.851036Z",
     "iopub.status.idle": "2023-07-30T10:53:18.858758Z",
     "shell.execute_reply": "2023-07-30T10:53:18.857556Z"
    },
    "papermill": {
     "duration": 0.027216,
     "end_time": "2023-07-30T10:53:18.861531",
     "exception": false,
     "start_time": "2023-07-30T10:53:18.834315",
     "status": "completed"
    },
    "tags": []
   },
   "outputs": [
    {
     "data": {
      "text/plain": [
       "'ablaze Birmingham @bbcmtd wholesale market ablaze'"
      ]
     },
     "execution_count": 11,
     "metadata": {},
     "output_type": "execute_result"
    }
   ],
   "source": [
    "df1['new_text'][31]"
   ]
  },
  {
   "cell_type": "markdown",
   "id": "ea44931a",
   "metadata": {
    "papermill": {
     "duration": 0.014853,
     "end_time": "2023-07-30T10:53:18.891726",
     "exception": false,
     "start_time": "2023-07-30T10:53:18.876873",
     "status": "completed"
    },
    "tags": []
   },
   "source": [
    "**Split the data :**"
   ]
  },
  {
   "cell_type": "code",
   "execution_count": 12,
   "id": "1e8b4ae2",
   "metadata": {
    "execution": {
     "iopub.execute_input": "2023-07-30T10:53:18.924446Z",
     "iopub.status.busy": "2023-07-30T10:53:18.924015Z",
     "iopub.status.idle": "2023-07-30T10:53:19.900650Z",
     "shell.execute_reply": "2023-07-30T10:53:19.899332Z"
    },
    "papermill": {
     "duration": 0.996984,
     "end_time": "2023-07-30T10:53:19.903969",
     "exception": false,
     "start_time": "2023-07-30T10:53:18.906985",
     "status": "completed"
    },
    "tags": []
   },
   "outputs": [],
   "source": [
    "from sklearn.model_selection import train_test_split\n",
    "x_train,x_test,y_train,y_test=train_test_split(\n",
    "    df1['new_text'],df1.target,\n",
    "    test_size=0.2,\n",
    "    random_state=2022,\n",
    "    stratify=df1.target\n",
    ")"
   ]
  },
  {
   "cell_type": "code",
   "execution_count": 13,
   "id": "99bb8772",
   "metadata": {
    "execution": {
     "iopub.execute_input": "2023-07-30T10:53:19.937818Z",
     "iopub.status.busy": "2023-07-30T10:53:19.937371Z",
     "iopub.status.idle": "2023-07-30T10:53:19.944475Z",
     "shell.execute_reply": "2023-07-30T10:53:19.943654Z"
    },
    "papermill": {
     "duration": 0.026627,
     "end_time": "2023-07-30T10:53:19.946520",
     "exception": false,
     "start_time": "2023-07-30T10:53:19.919893",
     "status": "completed"
    },
    "tags": []
   },
   "outputs": [
    {
     "data": {
      "text/plain": [
       "((4064,), (1016,), (4064,), (1016,))"
      ]
     },
     "execution_count": 13,
     "metadata": {},
     "output_type": "execute_result"
    }
   ],
   "source": [
    "x_train.shape,x_test.shape,y_train.shape,y_test.shape"
   ]
  },
  {
   "cell_type": "markdown",
   "id": "e3252617",
   "metadata": {
    "papermill": {
     "duration": 0.015288,
     "end_time": "2023-07-30T10:53:19.977326",
     "exception": false,
     "start_time": "2023-07-30T10:53:19.962038",
     "status": "completed"
    },
    "tags": []
   },
   "source": [
    "**Case 1.1: Apply Bag of Words model on various Classification models**"
   ]
  },
  {
   "cell_type": "code",
   "execution_count": 14,
   "id": "11c7747c",
   "metadata": {
    "execution": {
     "iopub.execute_input": "2023-07-30T10:53:20.011611Z",
     "iopub.status.busy": "2023-07-30T10:53:20.010435Z",
     "iopub.status.idle": "2023-07-30T10:53:20.222337Z",
     "shell.execute_reply": "2023-07-30T10:53:20.220627Z"
    },
    "papermill": {
     "duration": 0.231692,
     "end_time": "2023-07-30T10:53:20.225106",
     "exception": false,
     "start_time": "2023-07-30T10:53:19.993414",
     "status": "completed"
    },
    "tags": []
   },
   "outputs": [
    {
     "name": "stdout",
     "output_type": "stream",
     "text": [
      "              precision    recall  f1-score   support\n",
      "\n",
      "           0       0.81      0.80      0.81       577\n",
      "           1       0.74      0.75      0.75       439\n",
      "\n",
      "    accuracy                           0.78      1016\n",
      "   macro avg       0.78      0.78      0.78      1016\n",
      "weighted avg       0.78      0.78      0.78      1016\n",
      "\n"
     ]
    }
   ],
   "source": [
    "from sklearn.naive_bayes import MultinomialNB\n",
    "from sklearn.feature_extraction.text import CountVectorizer\n",
    "from sklearn.pipeline import Pipeline\n",
    "from sklearn.metrics import classification_report\n",
    "m1=Pipeline([\n",
    "    ('BOW',CountVectorizer()),\n",
    "    ('NB',MultinomialNB())    \n",
    "])\n",
    "m1.fit(x_train,y_train)\n",
    "y_pred1=m1.predict(x_test)\n",
    "print(classification_report(y_test,y_pred1))"
   ]
  },
  {
   "cell_type": "code",
   "execution_count": 15,
   "id": "c655eb5c",
   "metadata": {
    "execution": {
     "iopub.execute_input": "2023-07-30T10:53:20.258115Z",
     "iopub.status.busy": "2023-07-30T10:53:20.257727Z",
     "iopub.status.idle": "2023-07-30T10:53:27.295351Z",
     "shell.execute_reply": "2023-07-30T10:53:27.293806Z"
    },
    "papermill": {
     "duration": 7.057406,
     "end_time": "2023-07-30T10:53:27.298064",
     "exception": false,
     "start_time": "2023-07-30T10:53:20.240658",
     "status": "completed"
    },
    "tags": []
   },
   "outputs": [
    {
     "name": "stdout",
     "output_type": "stream",
     "text": [
      "              precision    recall  f1-score   support\n",
      "\n",
      "           0       0.79      0.93      0.85       577\n",
      "           1       0.88      0.67      0.76       439\n",
      "\n",
      "    accuracy                           0.82      1016\n",
      "   macro avg       0.83      0.80      0.80      1016\n",
      "weighted avg       0.83      0.82      0.81      1016\n",
      "\n"
     ]
    }
   ],
   "source": [
    "from sklearn.ensemble import RandomForestClassifier\n",
    "m2=Pipeline([\n",
    "    ('BOW',CountVectorizer()),\n",
    "    ('RandomForest',RandomForestClassifier())    \n",
    "])\n",
    "m2.fit(x_train,y_train)\n",
    "y_pred2=m2.predict(x_test)\n",
    "print(classification_report(y_test,y_pred2))"
   ]
  },
  {
   "cell_type": "code",
   "execution_count": 16,
   "id": "2eb346c0",
   "metadata": {
    "execution": {
     "iopub.execute_input": "2023-07-30T10:53:27.330484Z",
     "iopub.status.busy": "2023-07-30T10:53:27.330059Z",
     "iopub.status.idle": "2023-07-30T10:53:28.698022Z",
     "shell.execute_reply": "2023-07-30T10:53:28.696813Z"
    },
    "papermill": {
     "duration": 1.387187,
     "end_time": "2023-07-30T10:53:28.700517",
     "exception": false,
     "start_time": "2023-07-30T10:53:27.313330",
     "status": "completed"
    },
    "tags": []
   },
   "outputs": [
    {
     "name": "stdout",
     "output_type": "stream",
     "text": [
      "              precision    recall  f1-score   support\n",
      "\n",
      "           0       0.76      0.90      0.83       577\n",
      "           1       0.83      0.63      0.72       439\n",
      "\n",
      "    accuracy                           0.79      1016\n",
      "   macro avg       0.80      0.77      0.77      1016\n",
      "weighted avg       0.79      0.79      0.78      1016\n",
      "\n"
     ]
    }
   ],
   "source": [
    "from xgboost import XGBClassifier\n",
    "m3=Pipeline([\n",
    "    ('BOW',CountVectorizer()),\n",
    "    ('XGB',XGBClassifier())    \n",
    "])\n",
    "m3.fit(x_train,y_train)\n",
    "y_pred3=m3.predict(x_test)\n",
    "print(classification_report(y_test,y_pred3))"
   ]
  },
  {
   "cell_type": "code",
   "execution_count": 17,
   "id": "2ff8b9a5",
   "metadata": {
    "execution": {
     "iopub.execute_input": "2023-07-30T10:53:28.734644Z",
     "iopub.status.busy": "2023-07-30T10:53:28.733411Z",
     "iopub.status.idle": "2023-07-30T10:53:29.251856Z",
     "shell.execute_reply": "2023-07-30T10:53:29.249905Z"
    },
    "papermill": {
     "duration": 0.540508,
     "end_time": "2023-07-30T10:53:29.256691",
     "exception": false,
     "start_time": "2023-07-30T10:53:28.716183",
     "status": "completed"
    },
    "tags": []
   },
   "outputs": [
    {
     "name": "stdout",
     "output_type": "stream",
     "text": [
      "              precision    recall  f1-score   support\n",
      "\n",
      "           0       0.81      0.87      0.84       577\n",
      "           1       0.81      0.73      0.77       439\n",
      "\n",
      "    accuracy                           0.81      1016\n",
      "   macro avg       0.81      0.80      0.80      1016\n",
      "weighted avg       0.81      0.81      0.81      1016\n",
      "\n"
     ]
    }
   ],
   "source": [
    "from sklearn.linear_model import LogisticRegression\n",
    "ml=Pipeline([\n",
    "    ('BOW',CountVectorizer()),\n",
    "    ('Lreg',LogisticRegression())    \n",
    "])\n",
    "ml.fit(x_train,y_train)\n",
    "y_predl=ml.predict(x_test)\n",
    "print(classification_report(y_test,y_predl))"
   ]
  },
  {
   "cell_type": "markdown",
   "id": "7642f1f0",
   "metadata": {
    "papermill": {
     "duration": 0.015597,
     "end_time": "2023-07-30T10:53:29.304812",
     "exception": false,
     "start_time": "2023-07-30T10:53:29.289215",
     "status": "completed"
    },
    "tags": []
   },
   "source": [
    "**Case 1.2: Apply Bag of n-grams model on various Classification models**"
   ]
  },
  {
   "cell_type": "code",
   "execution_count": 18,
   "id": "0dfef9f4",
   "metadata": {
    "execution": {
     "iopub.execute_input": "2023-07-30T10:53:29.339352Z",
     "iopub.status.busy": "2023-07-30T10:53:29.338916Z",
     "iopub.status.idle": "2023-07-30T10:53:29.956752Z",
     "shell.execute_reply": "2023-07-30T10:53:29.955571Z"
    },
    "papermill": {
     "duration": 0.639417,
     "end_time": "2023-07-30T10:53:29.959962",
     "exception": false,
     "start_time": "2023-07-30T10:53:29.320545",
     "status": "completed"
    },
    "tags": []
   },
   "outputs": [
    {
     "name": "stdout",
     "output_type": "stream",
     "text": [
      "              precision    recall  f1-score   support\n",
      "\n",
      "           0       0.81      0.84      0.82       577\n",
      "           1       0.78      0.73      0.75       439\n",
      "\n",
      "    accuracy                           0.79      1016\n",
      "   macro avg       0.79      0.79      0.79      1016\n",
      "weighted avg       0.79      0.79      0.79      1016\n",
      "\n"
     ]
    }
   ],
   "source": [
    "m4=Pipeline([\n",
    "    ('Ngram',CountVectorizer(ngram_range=(1,3))),\n",
    "    ('NB',MultinomialNB())    \n",
    "])\n",
    "m4.fit(x_train,y_train)\n",
    "y_pred4=m4.predict(x_test)\n",
    "print(classification_report(y_test,y_pred4))"
   ]
  },
  {
   "cell_type": "code",
   "execution_count": 19,
   "id": "07a40eb9",
   "metadata": {
    "execution": {
     "iopub.execute_input": "2023-07-30T10:53:29.994505Z",
     "iopub.status.busy": "2023-07-30T10:53:29.994048Z",
     "iopub.status.idle": "2023-07-30T10:53:47.919858Z",
     "shell.execute_reply": "2023-07-30T10:53:47.918614Z"
    },
    "papermill": {
     "duration": 17.946358,
     "end_time": "2023-07-30T10:53:47.922302",
     "exception": false,
     "start_time": "2023-07-30T10:53:29.975944",
     "status": "completed"
    },
    "tags": []
   },
   "outputs": [
    {
     "name": "stdout",
     "output_type": "stream",
     "text": [
      "              precision    recall  f1-score   support\n",
      "\n",
      "           0       0.74      0.95      0.83       577\n",
      "           1       0.90      0.55      0.68       439\n",
      "\n",
      "    accuracy                           0.78      1016\n",
      "   macro avg       0.82      0.75      0.76      1016\n",
      "weighted avg       0.81      0.78      0.77      1016\n",
      "\n"
     ]
    }
   ],
   "source": [
    "m5=Pipeline([\n",
    "    ('Ngrams',CountVectorizer(ngram_range=(1,3))),\n",
    "    ('RandomForest',RandomForestClassifier())    \n",
    "])\n",
    "m5.fit(x_train,y_train)\n",
    "y_pred5=m5.predict(x_test)\n",
    "print(classification_report(y_test,y_pred5))"
   ]
  },
  {
   "cell_type": "code",
   "execution_count": 20,
   "id": "c46eeee4",
   "metadata": {
    "execution": {
     "iopub.execute_input": "2023-07-30T10:53:47.957113Z",
     "iopub.status.busy": "2023-07-30T10:53:47.956331Z",
     "iopub.status.idle": "2023-07-30T10:53:52.414157Z",
     "shell.execute_reply": "2023-07-30T10:53:52.413176Z"
    },
    "papermill": {
     "duration": 4.478257,
     "end_time": "2023-07-30T10:53:52.416526",
     "exception": false,
     "start_time": "2023-07-30T10:53:47.938269",
     "status": "completed"
    },
    "tags": []
   },
   "outputs": [
    {
     "name": "stdout",
     "output_type": "stream",
     "text": [
      "              precision    recall  f1-score   support\n",
      "\n",
      "           0       0.76      0.91      0.83       577\n",
      "           1       0.84      0.63      0.72       439\n",
      "\n",
      "    accuracy                           0.79      1016\n",
      "   macro avg       0.80      0.77      0.78      1016\n",
      "weighted avg       0.80      0.79      0.78      1016\n",
      "\n"
     ]
    }
   ],
   "source": [
    "from xgboost import XGBClassifier\n",
    "m6=Pipeline([\n",
    "    ('NG',CountVectorizer(ngram_range=(1,3))),\n",
    "    ('XGB',XGBClassifier())    \n",
    "])\n",
    "m6.fit(x_train,y_train)\n",
    "y_pred6=m6.predict(x_test)\n",
    "print(classification_report(y_test,y_pred6))"
   ]
  },
  {
   "cell_type": "code",
   "execution_count": 21,
   "id": "eece37e3",
   "metadata": {
    "execution": {
     "iopub.execute_input": "2023-07-30T10:53:52.451765Z",
     "iopub.status.busy": "2023-07-30T10:53:52.451111Z",
     "iopub.status.idle": "2023-07-30T10:53:54.106710Z",
     "shell.execute_reply": "2023-07-30T10:53:54.104114Z"
    },
    "papermill": {
     "duration": 1.676287,
     "end_time": "2023-07-30T10:53:54.109384",
     "exception": false,
     "start_time": "2023-07-30T10:53:52.433097",
     "status": "completed"
    },
    "tags": []
   },
   "outputs": [
    {
     "name": "stdout",
     "output_type": "stream",
     "text": [
      "              precision    recall  f1-score   support\n",
      "\n",
      "           0       0.80      0.88      0.84       577\n",
      "           1       0.82      0.71      0.76       439\n",
      "\n",
      "    accuracy                           0.81      1016\n",
      "   macro avg       0.81      0.80      0.80      1016\n",
      "weighted avg       0.81      0.81      0.80      1016\n",
      "\n"
     ]
    }
   ],
   "source": [
    "from sklearn.linear_model import LogisticRegression\n",
    "ml=Pipeline([\n",
    "    ('BOW',CountVectorizer(ngram_range=(1,2))),\n",
    "    ('Lreg',LogisticRegression())    \n",
    "])\n",
    "ml.fit(x_train,y_train)\n",
    "y_predl=ml.predict(x_test)\n",
    "print(classification_report(y_test,y_predl))"
   ]
  },
  {
   "cell_type": "markdown",
   "id": "bd8cbf25",
   "metadata": {
    "papermill": {
     "duration": 0.015653,
     "end_time": "2023-07-30T10:53:54.140981",
     "exception": false,
     "start_time": "2023-07-30T10:53:54.125328",
     "status": "completed"
    },
    "tags": []
   },
   "source": [
    "**Case 1.3: Apply TFIDF on various Classification models**"
   ]
  },
  {
   "cell_type": "code",
   "execution_count": 22,
   "id": "b15c9365",
   "metadata": {
    "execution": {
     "iopub.execute_input": "2023-07-30T10:53:54.175079Z",
     "iopub.status.busy": "2023-07-30T10:53:54.174611Z",
     "iopub.status.idle": "2023-07-30T10:53:54.356528Z",
     "shell.execute_reply": "2023-07-30T10:53:54.354486Z"
    },
    "papermill": {
     "duration": 0.202369,
     "end_time": "2023-07-30T10:53:54.359355",
     "exception": false,
     "start_time": "2023-07-30T10:53:54.156986",
     "status": "completed"
    },
    "tags": []
   },
   "outputs": [
    {
     "name": "stdout",
     "output_type": "stream",
     "text": [
      "              precision    recall  f1-score   support\n",
      "\n",
      "           0       0.78      0.87      0.82       577\n",
      "           1       0.80      0.68      0.74       439\n",
      "\n",
      "    accuracy                           0.79      1016\n",
      "   macro avg       0.79      0.78      0.78      1016\n",
      "weighted avg       0.79      0.79      0.79      1016\n",
      "\n"
     ]
    }
   ],
   "source": [
    "from sklearn.feature_extraction.text import TfidfVectorizer\n",
    "m7=Pipeline([\n",
    "    ('tfidf',TfidfVectorizer()),\n",
    "    ('NB',MultinomialNB())    \n",
    "])\n",
    "m7.fit(x_train,y_train)\n",
    "y_pred7=m7.predict(x_test)\n",
    "print(classification_report(y_test,y_pred7))"
   ]
  },
  {
   "cell_type": "code",
   "execution_count": 23,
   "id": "0a579b8c",
   "metadata": {
    "execution": {
     "iopub.execute_input": "2023-07-30T10:53:54.394199Z",
     "iopub.status.busy": "2023-07-30T10:53:54.393751Z",
     "iopub.status.idle": "2023-07-30T10:54:00.322926Z",
     "shell.execute_reply": "2023-07-30T10:54:00.321657Z"
    },
    "papermill": {
     "duration": 5.950379,
     "end_time": "2023-07-30T10:54:00.325950",
     "exception": false,
     "start_time": "2023-07-30T10:53:54.375571",
     "status": "completed"
    },
    "tags": []
   },
   "outputs": [
    {
     "name": "stdout",
     "output_type": "stream",
     "text": [
      "              precision    recall  f1-score   support\n",
      "\n",
      "           0       0.78      0.87      0.82       577\n",
      "           1       0.80      0.67      0.73       439\n",
      "\n",
      "    accuracy                           0.79      1016\n",
      "   macro avg       0.79      0.77      0.78      1016\n",
      "weighted avg       0.79      0.79      0.78      1016\n",
      "\n"
     ]
    }
   ],
   "source": [
    "m8=Pipeline([\n",
    "    ('tfidf1',TfidfVectorizer()),\n",
    "    ('RandomForest',RandomForestClassifier())    \n",
    "])\n",
    "m8.fit(x_train,y_train)\n",
    "y_pred8=m8.predict(x_test)\n",
    "print(classification_report(y_test,y_pred8))"
   ]
  },
  {
   "cell_type": "code",
   "execution_count": 24,
   "id": "d8df9c8f",
   "metadata": {
    "execution": {
     "iopub.execute_input": "2023-07-30T10:54:00.362278Z",
     "iopub.status.busy": "2023-07-30T10:54:00.361803Z",
     "iopub.status.idle": "2023-07-30T10:54:01.932256Z",
     "shell.execute_reply": "2023-07-30T10:54:01.931406Z"
    },
    "papermill": {
     "duration": 1.593138,
     "end_time": "2023-07-30T10:54:01.935348",
     "exception": false,
     "start_time": "2023-07-30T10:54:00.342210",
     "status": "completed"
    },
    "tags": []
   },
   "outputs": [
    {
     "name": "stdout",
     "output_type": "stream",
     "text": [
      "              precision    recall  f1-score   support\n",
      "\n",
      "           0       0.76      0.91      0.83       577\n",
      "           1       0.84      0.62      0.71       439\n",
      "\n",
      "    accuracy                           0.78      1016\n",
      "   macro avg       0.80      0.76      0.77      1016\n",
      "weighted avg       0.79      0.78      0.78      1016\n",
      "\n"
     ]
    }
   ],
   "source": [
    "m9=Pipeline([\n",
    "    ('tfidf2',TfidfVectorizer()),\n",
    "    ('XGB',XGBClassifier())    \n",
    "])\n",
    "m9.fit(x_train,y_train)\n",
    "y_pred9=m9.predict(x_test)\n",
    "print(classification_report(y_test,y_pred9))"
   ]
  },
  {
   "cell_type": "code",
   "execution_count": 25,
   "id": "a2ed90ab",
   "metadata": {
    "execution": {
     "iopub.execute_input": "2023-07-30T10:54:01.972625Z",
     "iopub.status.busy": "2023-07-30T10:54:01.971989Z",
     "iopub.status.idle": "2023-07-30T10:54:02.571325Z",
     "shell.execute_reply": "2023-07-30T10:54:02.569621Z"
    },
    "papermill": {
     "duration": 0.622167,
     "end_time": "2023-07-30T10:54:02.574286",
     "exception": false,
     "start_time": "2023-07-30T10:54:01.952119",
     "status": "completed"
    },
    "tags": []
   },
   "outputs": [
    {
     "name": "stdout",
     "output_type": "stream",
     "text": [
      "              precision    recall  f1-score   support\n",
      "\n",
      "           0       0.79      0.89      0.84       577\n",
      "           1       0.82      0.69      0.75       439\n",
      "\n",
      "    accuracy                           0.80      1016\n",
      "   macro avg       0.81      0.79      0.80      1016\n",
      "weighted avg       0.81      0.80      0.80      1016\n",
      "\n"
     ]
    }
   ],
   "source": [
    "from sklearn.linear_model import LogisticRegression\n",
    "ml=Pipeline([\n",
    "    ('BOW',TfidfVectorizer()),\n",
    "    ('L_reg',LogisticRegression())    \n",
    "])\n",
    "ml.fit(x_train,y_train)\n",
    "y_predl=ml.predict(x_test)\n",
    "print(classification_report(y_test,y_predl))"
   ]
  },
  {
   "cell_type": "markdown",
   "id": "701b1e68",
   "metadata": {
    "papermill": {
     "duration": 0.015987,
     "end_time": "2023-07-30T10:54:02.606947",
     "exception": false,
     "start_time": "2023-07-30T10:54:02.590960",
     "status": "completed"
    },
    "tags": []
   },
   "source": [
    "Applying the \"ml\" model consisting of the Boag of Words and the logistic regression model for the test dataset as it performed the best with an accuracy of 81% and weighed avg of 81%"
   ]
  },
  {
   "cell_type": "code",
   "execution_count": 26,
   "id": "20da5cbc",
   "metadata": {
    "execution": {
     "iopub.execute_input": "2023-07-30T10:54:02.642394Z",
     "iopub.status.busy": "2023-07-30T10:54:02.641569Z",
     "iopub.status.idle": "2023-07-30T10:54:02.677574Z",
     "shell.execute_reply": "2023-07-30T10:54:02.676412Z"
    },
    "papermill": {
     "duration": 0.056317,
     "end_time": "2023-07-30T10:54:02.680023",
     "exception": false,
     "start_time": "2023-07-30T10:54:02.623706",
     "status": "completed"
    },
    "tags": []
   },
   "outputs": [
    {
     "data": {
      "text/html": [
       "<div>\n",
       "<style scoped>\n",
       "    .dataframe tbody tr th:only-of-type {\n",
       "        vertical-align: middle;\n",
       "    }\n",
       "\n",
       "    .dataframe tbody tr th {\n",
       "        vertical-align: top;\n",
       "    }\n",
       "\n",
       "    .dataframe thead th {\n",
       "        text-align: right;\n",
       "    }\n",
       "</style>\n",
       "<table border=\"1\" class=\"dataframe\">\n",
       "  <thead>\n",
       "    <tr style=\"text-align: right;\">\n",
       "      <th></th>\n",
       "      <th>id</th>\n",
       "      <th>keyword</th>\n",
       "      <th>location</th>\n",
       "      <th>text</th>\n",
       "    </tr>\n",
       "  </thead>\n",
       "  <tbody>\n",
       "    <tr>\n",
       "      <th>0</th>\n",
       "      <td>0</td>\n",
       "      <td>NaN</td>\n",
       "      <td>NaN</td>\n",
       "      <td>Just happened a terrible car crash</td>\n",
       "    </tr>\n",
       "    <tr>\n",
       "      <th>1</th>\n",
       "      <td>2</td>\n",
       "      <td>NaN</td>\n",
       "      <td>NaN</td>\n",
       "      <td>Heard about #earthquake is different cities, s...</td>\n",
       "    </tr>\n",
       "    <tr>\n",
       "      <th>2</th>\n",
       "      <td>3</td>\n",
       "      <td>NaN</td>\n",
       "      <td>NaN</td>\n",
       "      <td>there is a forest fire at spot pond, geese are...</td>\n",
       "    </tr>\n",
       "    <tr>\n",
       "      <th>3</th>\n",
       "      <td>9</td>\n",
       "      <td>NaN</td>\n",
       "      <td>NaN</td>\n",
       "      <td>Apocalypse lighting. #Spokane #wildfires</td>\n",
       "    </tr>\n",
       "    <tr>\n",
       "      <th>4</th>\n",
       "      <td>11</td>\n",
       "      <td>NaN</td>\n",
       "      <td>NaN</td>\n",
       "      <td>Typhoon Soudelor kills 28 in China and Taiwan</td>\n",
       "    </tr>\n",
       "  </tbody>\n",
       "</table>\n",
       "</div>"
      ],
      "text/plain": [
       "   id keyword location                                               text\n",
       "0   0     NaN      NaN                 Just happened a terrible car crash\n",
       "1   2     NaN      NaN  Heard about #earthquake is different cities, s...\n",
       "2   3     NaN      NaN  there is a forest fire at spot pond, geese are...\n",
       "3   9     NaN      NaN           Apocalypse lighting. #Spokane #wildfires\n",
       "4  11     NaN      NaN      Typhoon Soudelor kills 28 in China and Taiwan"
      ]
     },
     "execution_count": 26,
     "metadata": {},
     "output_type": "execute_result"
    }
   ],
   "source": [
    "df2=pd.read_csv('/kaggle/input/nlp-getting-started/test.csv')\n",
    "df2.head()"
   ]
  },
  {
   "cell_type": "code",
   "execution_count": 27,
   "id": "d8bca18b",
   "metadata": {
    "execution": {
     "iopub.execute_input": "2023-07-30T10:54:02.717481Z",
     "iopub.status.busy": "2023-07-30T10:54:02.716667Z",
     "iopub.status.idle": "2023-07-30T10:54:02.724000Z",
     "shell.execute_reply": "2023-07-30T10:54:02.722955Z"
    },
    "papermill": {
     "duration": 0.02909,
     "end_time": "2023-07-30T10:54:02.726386",
     "exception": false,
     "start_time": "2023-07-30T10:54:02.697296",
     "status": "completed"
    },
    "tags": []
   },
   "outputs": [
    {
     "data": {
      "text/plain": [
       "(3263, 4)"
      ]
     },
     "execution_count": 27,
     "metadata": {},
     "output_type": "execute_result"
    }
   ],
   "source": [
    "df2.shape"
   ]
  },
  {
   "cell_type": "code",
   "execution_count": 28,
   "id": "fe489994",
   "metadata": {
    "execution": {
     "iopub.execute_input": "2023-07-30T10:54:02.762817Z",
     "iopub.status.busy": "2023-07-30T10:54:02.762139Z",
     "iopub.status.idle": "2023-07-30T10:54:02.775552Z",
     "shell.execute_reply": "2023-07-30T10:54:02.774118Z"
    },
    "papermill": {
     "duration": 0.034602,
     "end_time": "2023-07-30T10:54:02.778296",
     "exception": false,
     "start_time": "2023-07-30T10:54:02.743694",
     "status": "completed"
    },
    "tags": []
   },
   "outputs": [
    {
     "data": {
      "text/plain": [
       "id             0\n",
       "keyword       26\n",
       "location    1105\n",
       "text           0\n",
       "dtype: int64"
      ]
     },
     "execution_count": 28,
     "metadata": {},
     "output_type": "execute_result"
    }
   ],
   "source": [
    "df2.isna().sum()"
   ]
  },
  {
   "cell_type": "code",
   "execution_count": 29,
   "id": "25dea202",
   "metadata": {
    "execution": {
     "iopub.execute_input": "2023-07-30T10:54:02.814209Z",
     "iopub.status.busy": "2023-07-30T10:54:02.813826Z",
     "iopub.status.idle": "2023-07-30T10:54:02.826041Z",
     "shell.execute_reply": "2023-07-30T10:54:02.824967Z"
    },
    "papermill": {
     "duration": 0.033013,
     "end_time": "2023-07-30T10:54:02.828266",
     "exception": false,
     "start_time": "2023-07-30T10:54:02.795253",
     "status": "completed"
    },
    "tags": []
   },
   "outputs": [
    {
     "data": {
      "text/plain": [
       "(2158, 4)"
      ]
     },
     "execution_count": 29,
     "metadata": {},
     "output_type": "execute_result"
    }
   ],
   "source": [
    "df2.dropna(inplace=True,axis=0)\n",
    "df2.shape"
   ]
  },
  {
   "cell_type": "code",
   "execution_count": 30,
   "id": "5bc79dc8",
   "metadata": {
    "execution": {
     "iopub.execute_input": "2023-07-30T10:54:02.865274Z",
     "iopub.status.busy": "2023-07-30T10:54:02.864391Z",
     "iopub.status.idle": "2023-07-30T10:54:27.251911Z",
     "shell.execute_reply": "2023-07-30T10:54:27.250907Z"
    },
    "papermill": {
     "duration": 24.409059,
     "end_time": "2023-07-30T10:54:27.254222",
     "exception": false,
     "start_time": "2023-07-30T10:54:02.845163",
     "status": "completed"
    },
    "tags": []
   },
   "outputs": [
    {
     "data": {
      "text/html": [
       "<div>\n",
       "<style scoped>\n",
       "    .dataframe tbody tr th:only-of-type {\n",
       "        vertical-align: middle;\n",
       "    }\n",
       "\n",
       "    .dataframe tbody tr th {\n",
       "        vertical-align: top;\n",
       "    }\n",
       "\n",
       "    .dataframe thead th {\n",
       "        text-align: right;\n",
       "    }\n",
       "</style>\n",
       "<table border=\"1\" class=\"dataframe\">\n",
       "  <thead>\n",
       "    <tr style=\"text-align: right;\">\n",
       "      <th></th>\n",
       "      <th>id</th>\n",
       "      <th>keyword</th>\n",
       "      <th>location</th>\n",
       "      <th>text</th>\n",
       "      <th>prep_text</th>\n",
       "    </tr>\n",
       "  </thead>\n",
       "  <tbody>\n",
       "    <tr>\n",
       "      <th>15</th>\n",
       "      <td>46</td>\n",
       "      <td>ablaze</td>\n",
       "      <td>London</td>\n",
       "      <td>Birmingham Wholesale Market is ablaze BBC News...</td>\n",
       "      <td>birmingham wholesale market ablaze bbc news fi...</td>\n",
       "    </tr>\n",
       "    <tr>\n",
       "      <th>16</th>\n",
       "      <td>47</td>\n",
       "      <td>ablaze</td>\n",
       "      <td>Niall's place | SAF 12 SQUAD |</td>\n",
       "      <td>@sunkxssedharry will you wear shorts for race ...</td>\n",
       "      <td>@sunkxssedharry wear short race ablaze</td>\n",
       "    </tr>\n",
       "    <tr>\n",
       "      <th>17</th>\n",
       "      <td>51</td>\n",
       "      <td>ablaze</td>\n",
       "      <td>NIGERIA</td>\n",
       "      <td>#PreviouslyOnDoyinTv: Toke MakinwaÛªs marriag...</td>\n",
       "      <td>previouslyondoyintv toke makinwaûªs marriage ...</td>\n",
       "    </tr>\n",
       "    <tr>\n",
       "      <th>18</th>\n",
       "      <td>58</td>\n",
       "      <td>ablaze</td>\n",
       "      <td>Live On Webcam</td>\n",
       "      <td>Check these out: http://t.co/rOI2NSmEJJ http:/...</td>\n",
       "      <td>check nsfw</td>\n",
       "    </tr>\n",
       "    <tr>\n",
       "      <th>19</th>\n",
       "      <td>60</td>\n",
       "      <td>ablaze</td>\n",
       "      <td>Los Angeles, Califnordia</td>\n",
       "      <td>PSA: IÛªm splitting my personalities.\\n\\n?? t...</td>\n",
       "      <td>psa iûªm split personality \\n\\n techie follow...</td>\n",
       "    </tr>\n",
       "  </tbody>\n",
       "</table>\n",
       "</div>"
      ],
      "text/plain": [
       "    id keyword                        location  \\\n",
       "15  46  ablaze                          London   \n",
       "16  47  ablaze  Niall's place | SAF 12 SQUAD |   \n",
       "17  51  ablaze                         NIGERIA   \n",
       "18  58  ablaze                  Live On Webcam   \n",
       "19  60  ablaze        Los Angeles, Califnordia   \n",
       "\n",
       "                                                 text  \\\n",
       "15  Birmingham Wholesale Market is ablaze BBC News...   \n",
       "16  @sunkxssedharry will you wear shorts for race ...   \n",
       "17  #PreviouslyOnDoyinTv: Toke MakinwaÛªs marriag...   \n",
       "18  Check these out: http://t.co/rOI2NSmEJJ http:/...   \n",
       "19  PSA: IÛªm splitting my personalities.\\n\\n?? t...   \n",
       "\n",
       "                                            prep_text  \n",
       "15  birmingham wholesale market ablaze bbc news fi...  \n",
       "16             @sunkxssedharry wear short race ablaze  \n",
       "17  previouslyondoyintv toke makinwaûªs marriage ...  \n",
       "18                                         check nsfw  \n",
       "19  psa iûªm split personality \\n\\n techie follow...  "
      ]
     },
     "execution_count": 30,
     "metadata": {},
     "output_type": "execute_result"
    }
   ],
   "source": [
    "df2['prep_text']=df2['text'].apply(preprocess)\n",
    "df2.head()"
   ]
  },
  {
   "cell_type": "code",
   "execution_count": 31,
   "id": "a3ca2964",
   "metadata": {
    "execution": {
     "iopub.execute_input": "2023-07-30T10:54:27.291890Z",
     "iopub.status.busy": "2023-07-30T10:54:27.291145Z",
     "iopub.status.idle": "2023-07-30T10:54:27.309473Z",
     "shell.execute_reply": "2023-07-30T10:54:27.308026Z"
    },
    "papermill": {
     "duration": 0.040263,
     "end_time": "2023-07-30T10:54:27.312021",
     "exception": false,
     "start_time": "2023-07-30T10:54:27.271758",
     "status": "completed"
    },
    "tags": []
   },
   "outputs": [
    {
     "data": {
      "text/html": [
       "<div>\n",
       "<style scoped>\n",
       "    .dataframe tbody tr th:only-of-type {\n",
       "        vertical-align: middle;\n",
       "    }\n",
       "\n",
       "    .dataframe tbody tr th {\n",
       "        vertical-align: top;\n",
       "    }\n",
       "\n",
       "    .dataframe thead th {\n",
       "        text-align: right;\n",
       "    }\n",
       "</style>\n",
       "<table border=\"1\" class=\"dataframe\">\n",
       "  <thead>\n",
       "    <tr style=\"text-align: right;\">\n",
       "      <th></th>\n",
       "      <th>id</th>\n",
       "      <th>keyword</th>\n",
       "      <th>location</th>\n",
       "      <th>text</th>\n",
       "      <th>prep_text</th>\n",
       "      <th>n_text</th>\n",
       "    </tr>\n",
       "  </thead>\n",
       "  <tbody>\n",
       "    <tr>\n",
       "      <th>15</th>\n",
       "      <td>46</td>\n",
       "      <td>ablaze</td>\n",
       "      <td>London</td>\n",
       "      <td>Birmingham Wholesale Market is ablaze BBC News...</td>\n",
       "      <td>birmingham wholesale market ablaze bbc news fi...</td>\n",
       "      <td>ablaze London birmingham wholesale market abla...</td>\n",
       "    </tr>\n",
       "    <tr>\n",
       "      <th>16</th>\n",
       "      <td>47</td>\n",
       "      <td>ablaze</td>\n",
       "      <td>Niall's place | SAF 12 SQUAD |</td>\n",
       "      <td>@sunkxssedharry will you wear shorts for race ...</td>\n",
       "      <td>@sunkxssedharry wear short race ablaze</td>\n",
       "      <td>ablaze Niall's place | SAF 12 SQUAD | @sunkxss...</td>\n",
       "    </tr>\n",
       "    <tr>\n",
       "      <th>17</th>\n",
       "      <td>51</td>\n",
       "      <td>ablaze</td>\n",
       "      <td>NIGERIA</td>\n",
       "      <td>#PreviouslyOnDoyinTv: Toke MakinwaÛªs marriag...</td>\n",
       "      <td>previouslyondoyintv toke makinwaûªs marriage ...</td>\n",
       "      <td>ablaze NIGERIA previouslyondoyintv toke makinw...</td>\n",
       "    </tr>\n",
       "    <tr>\n",
       "      <th>18</th>\n",
       "      <td>58</td>\n",
       "      <td>ablaze</td>\n",
       "      <td>Live On Webcam</td>\n",
       "      <td>Check these out: http://t.co/rOI2NSmEJJ http:/...</td>\n",
       "      <td>check nsfw</td>\n",
       "      <td>ablaze Live On Webcam check nsfw</td>\n",
       "    </tr>\n",
       "    <tr>\n",
       "      <th>19</th>\n",
       "      <td>60</td>\n",
       "      <td>ablaze</td>\n",
       "      <td>Los Angeles, Califnordia</td>\n",
       "      <td>PSA: IÛªm splitting my personalities.\\n\\n?? t...</td>\n",
       "      <td>psa iûªm split personality \\n\\n techie follow...</td>\n",
       "      <td>ablaze Los Angeles, Califnordia psa iûªm spli...</td>\n",
       "    </tr>\n",
       "  </tbody>\n",
       "</table>\n",
       "</div>"
      ],
      "text/plain": [
       "    id keyword                        location  \\\n",
       "15  46  ablaze                          London   \n",
       "16  47  ablaze  Niall's place | SAF 12 SQUAD |   \n",
       "17  51  ablaze                         NIGERIA   \n",
       "18  58  ablaze                  Live On Webcam   \n",
       "19  60  ablaze        Los Angeles, Califnordia   \n",
       "\n",
       "                                                 text  \\\n",
       "15  Birmingham Wholesale Market is ablaze BBC News...   \n",
       "16  @sunkxssedharry will you wear shorts for race ...   \n",
       "17  #PreviouslyOnDoyinTv: Toke MakinwaÛªs marriag...   \n",
       "18  Check these out: http://t.co/rOI2NSmEJJ http:/...   \n",
       "19  PSA: IÛªm splitting my personalities.\\n\\n?? t...   \n",
       "\n",
       "                                            prep_text  \\\n",
       "15  birmingham wholesale market ablaze bbc news fi...   \n",
       "16             @sunkxssedharry wear short race ablaze   \n",
       "17  previouslyondoyintv toke makinwaûªs marriage ...   \n",
       "18                                         check nsfw   \n",
       "19  psa iûªm split personality \\n\\n techie follow...   \n",
       "\n",
       "                                               n_text  \n",
       "15  ablaze London birmingham wholesale market abla...  \n",
       "16  ablaze Niall's place | SAF 12 SQUAD | @sunkxss...  \n",
       "17  ablaze NIGERIA previouslyondoyintv toke makinw...  \n",
       "18                   ablaze Live On Webcam check nsfw  \n",
       "19  ablaze Los Angeles, Califnordia psa iûªm spli...  "
      ]
     },
     "execution_count": 31,
     "metadata": {},
     "output_type": "execute_result"
    }
   ],
   "source": [
    "df2['n_text']=df2['keyword']+\" \"+df2['location']+\" \"+df2['prep_text']\n",
    "df2.head()"
   ]
  },
  {
   "cell_type": "code",
   "execution_count": 32,
   "id": "001dd0ed",
   "metadata": {
    "execution": {
     "iopub.execute_input": "2023-07-30T10:54:27.350113Z",
     "iopub.status.busy": "2023-07-30T10:54:27.348854Z",
     "iopub.status.idle": "2023-07-30T10:54:27.357935Z",
     "shell.execute_reply": "2023-07-30T10:54:27.356529Z"
    },
    "papermill": {
     "duration": 0.030727,
     "end_time": "2023-07-30T10:54:27.360434",
     "exception": false,
     "start_time": "2023-07-30T10:54:27.329707",
     "status": "completed"
    },
    "tags": []
   },
   "outputs": [
    {
     "data": {
      "text/plain": [
       "'ablaze Los Angeles, Califnordia psa i\\x89ûªm split personality \\n\\n techie follow @ablaze_co \\n burner follow @ablaze'"
      ]
     },
     "execution_count": 32,
     "metadata": {},
     "output_type": "execute_result"
    }
   ],
   "source": [
    "df2['n_text'][19]"
   ]
  },
  {
   "cell_type": "code",
   "execution_count": 33,
   "id": "87528dac",
   "metadata": {
    "execution": {
     "iopub.execute_input": "2023-07-30T10:54:27.398608Z",
     "iopub.status.busy": "2023-07-30T10:54:27.398130Z",
     "iopub.status.idle": "2023-07-30T10:54:27.460189Z",
     "shell.execute_reply": "2023-07-30T10:54:27.458827Z"
    },
    "papermill": {
     "duration": 0.08469,
     "end_time": "2023-07-30T10:54:27.463088",
     "exception": false,
     "start_time": "2023-07-30T10:54:27.378398",
     "status": "completed"
    },
    "tags": []
   },
   "outputs": [
    {
     "data": {
      "text/html": [
       "<div>\n",
       "<style scoped>\n",
       "    .dataframe tbody tr th:only-of-type {\n",
       "        vertical-align: middle;\n",
       "    }\n",
       "\n",
       "    .dataframe tbody tr th {\n",
       "        vertical-align: top;\n",
       "    }\n",
       "\n",
       "    .dataframe thead th {\n",
       "        text-align: right;\n",
       "    }\n",
       "</style>\n",
       "<table border=\"1\" class=\"dataframe\">\n",
       "  <thead>\n",
       "    <tr style=\"text-align: right;\">\n",
       "      <th></th>\n",
       "      <th>target</th>\n",
       "    </tr>\n",
       "  </thead>\n",
       "  <tbody>\n",
       "    <tr>\n",
       "      <th>0</th>\n",
       "      <td>1</td>\n",
       "    </tr>\n",
       "    <tr>\n",
       "      <th>1</th>\n",
       "      <td>0</td>\n",
       "    </tr>\n",
       "    <tr>\n",
       "      <th>2</th>\n",
       "      <td>1</td>\n",
       "    </tr>\n",
       "    <tr>\n",
       "      <th>3</th>\n",
       "      <td>0</td>\n",
       "    </tr>\n",
       "    <tr>\n",
       "      <th>4</th>\n",
       "      <td>0</td>\n",
       "    </tr>\n",
       "  </tbody>\n",
       "</table>\n",
       "</div>"
      ],
      "text/plain": [
       "   target\n",
       "0       1\n",
       "1       0\n",
       "2       1\n",
       "3       0\n",
       "4       0"
      ]
     },
     "execution_count": 33,
     "metadata": {},
     "output_type": "execute_result"
    }
   ],
   "source": [
    "y_pred_test1=ml.predict(df2.n_text)\n",
    "result=pd.DataFrame(y_pred_test1,columns=['target'])\n",
    "result.head()"
   ]
  },
  {
   "cell_type": "code",
   "execution_count": 34,
   "id": "43e72136",
   "metadata": {
    "execution": {
     "iopub.execute_input": "2023-07-30T10:54:27.505100Z",
     "iopub.status.busy": "2023-07-30T10:54:27.504670Z",
     "iopub.status.idle": "2023-07-30T10:54:27.520661Z",
     "shell.execute_reply": "2023-07-30T10:54:27.519406Z"
    },
    "papermill": {
     "duration": 0.040345,
     "end_time": "2023-07-30T10:54:27.523198",
     "exception": false,
     "start_time": "2023-07-30T10:54:27.482853",
     "status": "completed"
    },
    "tags": []
   },
   "outputs": [
    {
     "data": {
      "text/plain": [
       "target\n",
       "0         1397\n",
       "1          761\n",
       "dtype: int64"
      ]
     },
     "execution_count": 34,
     "metadata": {},
     "output_type": "execute_result"
    }
   ],
   "source": [
    "result.value_counts()"
   ]
  },
  {
   "cell_type": "code",
   "execution_count": null,
   "id": "9d27c5af",
   "metadata": {
    "papermill": {
     "duration": 0.018201,
     "end_time": "2023-07-30T10:54:27.560125",
     "exception": false,
     "start_time": "2023-07-30T10:54:27.541924",
     "status": "completed"
    },
    "tags": []
   },
   "outputs": [],
   "source": []
  }
 ],
 "metadata": {
  "kernelspec": {
   "display_name": "Python 3",
   "language": "python",
   "name": "python3"
  },
  "language_info": {
   "codemirror_mode": {
    "name": "ipython",
    "version": 3
   },
   "file_extension": ".py",
   "mimetype": "text/x-python",
   "name": "python",
   "nbconvert_exporter": "python",
   "pygments_lexer": "ipython3",
   "version": "3.10.12"
  },
  "papermill": {
   "default_parameters": {},
   "duration": 164.965814,
   "end_time": "2023-07-30T10:54:30.990172",
   "environment_variables": {},
   "exception": null,
   "input_path": "__notebook__.ipynb",
   "output_path": "__notebook__.ipynb",
   "parameters": {},
   "start_time": "2023-07-30T10:51:46.024358",
   "version": "2.4.0"
  }
 },
 "nbformat": 4,
 "nbformat_minor": 5
}
